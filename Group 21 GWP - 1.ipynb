{
 "cells": [
  {
   "cell_type": "markdown",
   "id": "924436ac",
   "metadata": {},
   "source": [
    "# Question 8"
   ]
  },
  {
   "cell_type": "markdown",
   "id": "b4477e51",
   "metadata": {},
   "source": [
    "Determine Monte Carlo estimates of both the default-free value of the option and the Credit Valuation Adjustment (CVA). You can take an initial firm value like of $200 for your calculations."
   ]
  },
  {
   "cell_type": "code",
   "execution_count": 1,
   "id": "bc750689",
   "metadata": {},
   "outputs": [],
   "source": [
    "import numpy as np \n",
    "from scipy.stats import norm\n",
    "import numpy.matlib\n",
    "from scipy.stats import uniform\n",
    "import matplotlib.pyplot as plt\n",
    "import math\n",
    "import random "
   ]
  },
  {
   "cell_type": "code",
   "execution_count": 16,
   "id": "32033db8",
   "metadata": {},
   "outputs": [],
   "source": [
    "# Share specific  information\n",
    "\n",
    "risk_free = 0.08 #risk free rate\n",
    "S_0 = 100 #Current stock price\n",
    "sigma = 0.3 #volatility of the underlying share is 30%\n",
    "sigma_cp = 0.25 # volatility for the counterparty firm value\n",
    "cp_debt = 175 # counterparty debt, due in one year\n",
    "corel = 0.2 # correlation between the counterparty and the stock.\n",
    "recovery_rate = 0.25 #recovery rate with the counterparty\n",
    "\n",
    "# Call Option specific information\n",
    "\n",
    "strike = 100\n",
    "V_0 = 200\n",
    "T = 1\n",
    "curr_time = 0\n",
    "b = risk_free # Cost to carry assuming no dividends\n",
    "bar_lvl = 150 # barrier level\n",
    "R = 0 # value upon expiration\n"
   ]
  },
  {
   "cell_type": "code",
   "execution_count": 27,
   "id": "f8cef910",
   "metadata": {},
   "outputs": [],
   "source": [
    "def terminal_value(S_O, risk_free_rate,sigma,Z,T):\n",
    "    \"\"\"Generates the terminal share price given some random normal values, Z\"\"\"\n",
    "    return S_O*np.exp((risk_free_rate-sigma**2/2)*T+sigma*np.sqrt(T)*Z) \n",
    "\n",
    "def call_payoff(S_T,K):\n",
    "    \"\"\"Function for evaluating the call price in Monte Carlo Estimation\"\"\"\n",
    "    return np.maximum((S_T-K)*1,0) "
   ]
  },
  {
   "cell_type": "code",
   "execution_count": 31,
   "id": "1d22950a",
   "metadata": {},
   "outputs": [],
   "source": [
    "# Monte carlo estimates for default free value\n",
    "\n",
    "\n",
    "def terminal_stockprice(r, S_0, sigma, T, Z): \n",
    "    return S_0*np.exp((r-sigma**2/2)*T + sigma*np.sqrt(T)*Z)\n",
    "\n",
    "def discounted_call_payoff(S_T, K, r, T): \n",
    "    return np.exp(-r*T)*np.maximum(S_T - K, 0)\n",
    "\n",
    "# Code for generating Monte Carlo Estimates of vanilla European Put options\n",
    "np.random.seed(0)\n",
    "\n",
    "\n",
    "mcall_estimates = [None]*50\n",
    "mcall_std = [None]*50\n",
    "\n",
    "# Generating Monte Carlo estimates as a function of sample size\n",
    "for i in range(1,51):\n",
    "    norm_array = norm.rvs(size = i*1000)\n",
    "    term_val = terminal_stockprice(risk_free, S_0, sigma, T - curr_time,  norm_array)\n",
    "    mcall_val = discounted_call_payoff(term_val, strike, risk_free, T - curr_time)\n",
    "    mcall_estimates[i-1] = np.mean(mcall_val)\n",
    "    mcall_std[i-1] = np.std(mcall_val)/np.sqrt(i*1000)\n"
   ]
  },
  {
   "cell_type": "code",
   "execution_count": 32,
   "id": "ba57f7e6",
   "metadata": {},
   "outputs": [
    {
     "data": {
      "text/plain": [
       "15.63496410618048"
      ]
     },
     "execution_count": 32,
     "metadata": {},
     "output_type": "execute_result"
    }
   ],
   "source": [
    "np.mean(mcall_val)"
   ]
  },
  {
   "cell_type": "code",
   "execution_count": 9,
   "id": "0f78d65f",
   "metadata": {},
   "outputs": [],
   "source": []
  },
  {
   "cell_type": "code",
   "execution_count": 34,
   "id": "84a3e3e5",
   "metadata": {},
   "outputs": [],
   "source": [
    "#Credit valuation adjustment\n",
    "\n",
    "np.random.seed(0)\n",
    "\n",
    "corr_tested = np.linspace(-1,1,21)\n",
    "cva_estimates = [None]*len(corr_tested)\n",
    "cva_std = [None]*len(corr_tested)\n",
    "\n",
    "\n",
    "for i in range(len(corr_tested)):\n",
    "    \n",
    "    correlation = corr_tested[i]\n",
    "    if (correlation == 1 or correlation == -1):\n",
    "        norm_vec_0 = norm.rvs(size = 50000)\n",
    "        norm_vec_1 = correlation*norm_vec_0\n",
    "        corr_norm_matrix = np.array([norm_vec_0, norm_vec_1])\n",
    "        \n",
    "    else:\n",
    "        corr_matrix = np.array([[1,correlation],[correlation,1]])\n",
    "        norm_matrix = norm.rvs(size = np.array([2,50000]))\n",
    "        corr_norm_matrix = np.matmul(np.linalg.cholesky(corr_matrix),norm_matrix)\n",
    "        \n",
    "     \n",
    "    term_stock_val = terminal_value(S_0, risk_free,sigma,corr_norm_matrix[0,],T)\n",
    "    call_val = call_payoff(term_stock_val, strike)\n",
    "    term_firm_val = terminal_value(V_0, risk_free,sigma_cp,corr_norm_matrix[1,],T)\n",
    "    amount_lost = np.exp(-risk_free*T)*(1-recovery_rate)*(term_firm_val < cp_debt)*call_val\n",
    "    cva_estimates[i] = np.mean(amount_lost)\n",
    "    cva_std[i] = np.std(amount_lost)/np.sqrt(50000)\n",
    "            "
   ]
  },
  {
   "cell_type": "code",
   "execution_count": 35,
   "id": "dfea6d1b",
   "metadata": {},
   "outputs": [
    {
     "data": {
      "text/plain": [
       "3.3323654588326597"
      ]
     },
     "execution_count": 35,
     "metadata": {},
     "output_type": "execute_result"
    }
   ],
   "source": [
    "np.mean(cva_estimates)"
   ]
  },
  {
   "cell_type": "code",
   "execution_count": 23,
   "id": "e4b60feb",
   "metadata": {},
   "outputs": [],
   "source": [
    "# code to calculate the default probability\n",
    "\n",
    "d_1 = (np.log(V_0/cp_debt)+(risk_free + sigma_cp**2/2)*(T))/(sigma_cp*np.sqrt(T))\n",
    "d_2 = d_1 - sigma_cp*np.sqrt(T)\n",
    "\n",
    "default_prob = norm.cdf(-d_2)"
   ]
  },
  {
   "cell_type": "code",
   "execution_count": 24,
   "id": "6618558f",
   "metadata": {},
   "outputs": [],
   "source": [
    "# code for analytical solution for vanilla European Call option\n",
    "d_1_stock = (np.log(S_0/strike)+(risk_free + sigma**2/2)*(T))/(sigma*np.sqrt(T))\n",
    "d_2_stock = d_1_stock - sigma*np.sqrt(T)\n",
    "\n",
    "analytic_callprice = S_0*norm.cdf(d_1_stock)-strike*np.exp(-risk_free*(T))*norm.cdf(d_2_stock)\n",
    "uncorr_cva = (1-recovery_rate)*default_prob*analytic_callprice"
   ]
  },
  {
   "cell_type": "code",
   "execution_count": 25,
   "id": "11e6c8d5",
   "metadata": {},
   "outputs": [
    {
     "data": {
      "image/png": "[encoded data removed]",
      "text/plain": [
       "<Figure size 432x288 with 1 Axes>"
      ]
     },
     "metadata": {
      "needs_background": "light"
     },
     "output_type": "display_data"
    }
   ],
   "source": [
    "plt.plot(corr_tested,[uncorr_cva]*21)\n",
    "plt.plot(corr_tested,cva_estimates,'.')\n",
    "plt.plot(corr_tested,cva_estimates+3*np.array(cva_std),'r')\n",
    "plt.plot(corr_tested,cva_estimates-3*np.array(cva_std),'r')\n",
    "plt.xlabel(\"Correlation\")\n",
    "plt.ylabel(\"CVA\")\n",
    "plt.show()"
   ]
  },
  {
   "cell_type": "markdown",
   "id": "197d008d",
   "metadata": {},
   "source": [
    "# Question 9 "
   ]
  },
  {
   "cell_type": "markdown",
   "id": "156fb3aa",
   "metadata": {},
   "source": [
    "Calculate the Monte Carlo estimates for the price of the option incorporating counterparty risk, given by the default-free price less the CVA"
   ]
  },
  {
   "cell_type": "code",
   "execution_count": 37,
   "id": "69ffb7cf",
   "metadata": {},
   "outputs": [],
   "source": [
    "# Monte carlo estimates for the price of the option\n",
    "\n",
    "mc_pricing = mcall_val - amount_lost"
   ]
  },
  {
   "cell_type": "code",
   "execution_count": 38,
   "id": "534cb30b",
   "metadata": {},
   "outputs": [
    {
     "data": {
      "text/plain": [
       "array([46.41209163,  0.        , 13.2320014 , ..., 12.84693354,\n",
       "       25.78351683,  0.        ])"
      ]
     },
     "execution_count": 38,
     "metadata": {},
     "output_type": "execute_result"
    }
   ],
   "source": [
    "mc_pricing"
   ]
  },
  {
   "cell_type": "code",
   "execution_count": 39,
   "id": "11983a00",
   "metadata": {},
   "outputs": [
    {
     "data": {
      "text/plain": [
       "15.63496410618048"
      ]
     },
     "execution_count": 39,
     "metadata": {},
     "output_type": "execute_result"
    }
   ],
   "source": [
    "np.mean(mc_pricing)"
   ]
  },
  {
   "cell_type": "code",
   "execution_count": 41,
   "id": "5ce87da4",
   "metadata": {},
   "outputs": [],
   "source": [
    "Sizes=[None]*50"
   ]
  },
  {
   "cell_type": "code",
   "execution_count": null,
   "id": "da2c82b1",
   "metadata": {},
   "outputs": [],
   "source": [
    "mc_pricing = mcall_val - amount_lost\n",
    "\n",
    "#Plot the price of the option taking account CVA\n",
    "plt.plot(Sizes,mc_pricing)\n",
    "plt.xlabel(\"Sample sizes\")\n",
    "plt.ylabel(\"Prices\")\n",
    "plt.title(\"Option pricing for CVA\")\n",
    "plt.show()"
   ]
  },
  {
   "cell_type": "code",
   "execution_count": null,
   "id": "2c77428e",
   "metadata": {},
   "outputs": [],
   "source": []
  }
 ],
 "metadata": {
  "kernelspec": {
   "display_name": "Python 3",
   "language": "python",
   "name": "python3"
  },
  "language_info": {
   "codemirror_mode": {
    "name": "ipython",
    "version": 3
   },
   "file_extension": ".py",
   "mimetype": "text/x-python",
   "name": "python",
   "nbconvert_exporter": "python",
   "pygments_lexer": "ipython3",
   "version": "3.7.6"
  }
 },
 "nbformat": 4,
 "nbformat_minor": 5
}
