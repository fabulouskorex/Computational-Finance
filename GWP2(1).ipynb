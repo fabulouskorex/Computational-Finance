{
 "cells": [
  {
   "cell_type": "markdown",
   "id": "c79c98f9",
   "metadata": {},
   "source": [
    "# GWP - Submission #2"
   ]
  },
  {
   "cell_type": "markdown",
   "id": "c2a70ce0",
   "metadata": {},
   "source": [
    "# Q1\n",
    "\n",
    "Using a simple Fourier pricing technique (using 𝑁 = 100 intervals, and using an effective\n",
    "upper bound of integration of 30), price a vanilla call option assuming that the underlying\n",
    "share follows the Heston model dynamics. Use the parameter values from the previous\n",
    "section (GWP #1), as well as the following parameter values:\n",
    "• 𝑣_0 = 0.06\n",
    "• κ = 9\n",
    "• θ = 0.06\n",
    "• 𝜌 = −0.4"
   ]
  },
  {
   "cell_type": "code",
   "execution_count": 5,
   "id": "05d72274",
   "metadata": {},
   "outputs": [],
   "source": [
    "from scipy.stats import norm\n",
    "import math\n",
    "import random\n",
    "import numpy as np\n",
    "from scipy.stats import uniform\n",
    "import matplotlib.pyplot as plt\n",
    "from scipy.stats import ncx2"
   ]
  },
  {
   "cell_type": "code",
   "execution_count": 4,
   "id": "a4574707",
   "metadata": {},
   "outputs": [],
   "source": [
    "# Share specific  information\n",
    "r = 0.08 #risk free rate\n",
    "S0 = 100 #Current stock price\n",
    "sigma = 0.3 #volatility of the underlying share is 30%\n",
    "sigma_cp = 0.25 # volatility for the counterparty firm value\n",
    "cp_debt = 175 # counterparty debt, due in one year\n",
    "corel = 0.2 # correlation between the counterparty and the stock.\n",
    "reco = 0.25 #recovery rate with the counterparty\n",
    "\n",
    "# Call Option specific information\n",
    "K = 100 #strike\n",
    "T = 1\n",
    "k_log = np.log(K)\n",
    "\n",
    "#Hestom model parameters\n",
    "v0 = 0.06\n",
    "kappa = 9\n",
    "theta = 0.06\n",
    "rho = -0.4\n",
    "\n",
    "#Approximation information\n",
    "t_max = 30\n",
    "N = 100\n"
   ]
  },
  {
   "cell_type": "code",
   "execution_count": 5,
   "id": "1632fae5",
   "metadata": {},
   "outputs": [],
   "source": [
    "#Characterristic function code\n",
    "\n",
    "a = sigma**2/2\n",
    "\n",
    "def b(u): \n",
    "    return kappa - rho*sigma*1j*u\n",
    "\n",
    "def c(u):\n",
    "    return -(u**2+1j*u)/2\n",
    "\n",
    "def d(u):\n",
    "    return np.sqrt(b(u)**2-4*a*c(u))\n",
    "\n",
    "def xminus(u):\n",
    "    return (b(u)-d(u))/(2*a)\n",
    "\n",
    "def xplus(u):\n",
    "    return (b(u)+d(u))/(2*a)\n",
    "\n",
    "def g(u):\n",
    "    return xminus(u)/xplus(u)\n",
    "\n",
    "def C(u):\n",
    "    val1 = T*xminus(u)-np.log((1-g(u)*np.exp(-T*d(u)))/(1-g(u)))/a\n",
    "    return r*T*1j*u + theta*kappa*val1\n",
    "\n",
    "def D(u):\n",
    "    val1 = 1-np.exp(-T*d(u))\n",
    "    val2 = 1-g(u)*np.exp(-T*d(u))\n",
    "    return (val1/val2)*xminus(u)\n",
    "\n",
    "def log_char(u):\n",
    "    return np.exp(C(u) + D(u)*v0 + 1j*u*np.log(S0))\n",
    "\n",
    "def adj_char(u):\n",
    "    return log_char(u-1j)/log_char(-1j)\n"
   ]
  },
  {
   "cell_type": "code",
   "execution_count": 6,
   "id": "ce72f520",
   "metadata": {},
   "outputs": [
    {
     "data": {
      "text/plain": [
       "13.734895692109063"
      ]
     },
     "execution_count": 6,
     "metadata": {},
     "output_type": "execute_result"
    }
   ],
   "source": [
    "#Price of call\n",
    "\n",
    "delta_t = t_max/N\n",
    "from_1_to_N = np.linspace(1,N,N)\n",
    "t_n = (from_1_to_N-1/2)*delta_t\n",
    "\n",
    "#Integral calculations\n",
    "first_integral = sum((((np.exp(-1j*t_n*k_log)*adj_char(t_n)).imag)/t_n)*delta_t)\n",
    "second_integral = sum((((np.exp(-1j*t_n*k_log)*log_char(t_n)).imag)/t_n)*delta_t)\n",
    "\n",
    "fourier_call_val = S0*(1/2 + first_integral/np.pi)-np.exp(-r*T)*K*(1/2 + second_integral/np.pi)\n",
    "fourier_call_val"
   ]
  },
  {
   "cell_type": "markdown",
   "id": "b55bc468",
   "metadata": {},
   "source": [
    "# Q2 "
   ]
  },
  {
   "cell_type": "markdown",
   "id": "0dfb564c",
   "metadata": {},
   "source": [
    "We will now simulate a share price path. Assume that $\\sigma\\left(t_{i}, t_{i+1}\\right)=\\sigma\\left(S_{t i}\\right)^{\\gamma-1}$, where $\\sigma=$ $0.3$ and $\\gamma=0.75$. Using the formula below, simulate paths for the underlying share using sample sizes of $1000,2000, \\ldots, 50000 .$ Perform monthly simulations for a period of a year. We can simulate the next step in a share price path using the following formula:\n",
    "$$\n",
    "S_{t_{i+1}}=S_{t_{i}} e^{\\left(r-\\frac{\\sigma^{2}\\left(t_{i}, t_{i+1}\\right)}{2}\\right)\\left(t_{i+1}-t_{i}\\right)+\\sigma\\left(t_{i}, t_{i+1}\\right) \\sqrt{t_{i+1}-t_{i}} Z}\n",
    "$$\n",
    "where $S_{t i}$ is the share price at time $t_{i}, \\sigma\\left(t_{i}, t_{i+1}\\right)$ is the volatility for the period $\\left[t_{i}, t_{i+1}\\right], r$ is the risk-free interest rate, and $Z \\sim N(0,1)$.\n",
    "\n",
    "Note that we are attempting to run simulations using the CEV model. However, while the CEV model assumes that volatility is a continuous function of time and share price, we are making a simplifying assumption that volatility is constant over each simulation period."
   ]
  },
  {
   "cell_type": "code",
   "execution_count": 7,
   "id": "efd9b950",
   "metadata": {},
   "outputs": [],
   "source": [
    "# Variable declaration\n",
    "\n",
    "gamma = 0.75\n",
    "n_sim = 1000  # number of simulation\n"
   ]
  },
  {
   "cell_type": "code",
   "execution_count": 8,
   "id": "46b517da",
   "metadata": {},
   "outputs": [],
   "source": [
    "def CEV(sigma,K,gamma):\n",
    "    return sigma*(K**(gamma-1))"
   ]
  },
  {
   "cell_type": "code",
   "execution_count": 15,
   "id": "82ef5d7b",
   "metadata": {},
   "outputs": [
    {
     "data": {
      "image/png": "[encoded data removed]",
      "text/plain": [
       "<Figure size 432x288 with 1 Axes>"
      ]
     },
     "metadata": {
      "needs_background": "light"
     },
     "output_type": "display_data"
    }
   ],
   "source": [
    "def euro_call(S0,K,T,r,sigma,n_sim,gamma):\n",
    "    n_step = 12 # number of steps - monthly\n",
    "    dt = T/n_step \n",
    "    total=0\n",
    "    vol_est = sigma*(K**(gamma-1))  # CEV model for volatitily estimation\n",
    "    \n",
    "    for p in range(0,n_sim):\n",
    "        S_t=S0\n",
    "        \n",
    "        for q in range(0,int(n_step)):\n",
    "            random.seed(0)\n",
    "            Z = scipy.random.normal()\n",
    "            S_t*=np.exp((r-0.5*vol_est**2)*dt + vol_est*Z*np.sqrt(dt))\n",
    "            \n",
    "        total+=np.exp(-r*T)*(np.maximum(S_t-K,0))\n",
    "    return total/n_sim\n",
    "\n",
    "\n",
    "random.seed(0)\n",
    "options_path=[None]*50\n",
    "for i in range(1,51):\n",
    "    options_path[i-1]=euro_call(S0,K,T,r,sigma,n_sim*i,gamma)\n",
    "\n",
    "\n",
    "plt.plot(options_path,\".\")\n",
    "plt.xlabel(\"Sample Size(x1000)\")\n",
    "plt.ylabel(\"Options Value\")\n",
    "plt.title(\"Share price path\")\n",
    "plt.show()"
   ]
  },
  {
   "cell_type": "markdown",
   "id": "19a87e27",
   "metadata": {},
   "source": [
    "# Q3\n",
    "\n",
    "Augment your code in part 2 to calculate Monte Carlo estimates, as well as the standard deviations for these estimates, for the price of a vanilla call option (with the same strike term as in Submission 1)."
   ]
  },
  {
   "cell_type": "code",
   "execution_count": 13,
   "id": "34958d34",
   "metadata": {},
   "outputs": [
    {
     "name": "stdout",
     "output_type": "stream",
     "text": [
      "Analytical call price 8.702333534327622\n"
     ]
    }
   ],
   "source": [
    "# Call price under CEV\n",
    "z = 2 + 1/(1-gamma)\n",
    "\n",
    "def analytical_Call(t,K):\n",
    "    kappa = 2*r/(sigma**2*(1-gamma)*(np.exp(2*r*(1-gamma)*t)-1))\n",
    "    x = kappa*S0**(2*(1-gamma))*np.exp(2*r*(1-gamma)*t)\n",
    "    y = kappa*K**(2*(1-gamma))\n",
    "    return S0*(1-ncx2.cdf(y,z,x))-K*np.exp(-r*t)*ncx2.cdf(x,z-2,y)\n",
    "\n",
    "analytical_call_price = analytical_Call(T,K)\n",
    "print(\"Analytical call price\", analytical_call_price)"
   ]
  },
  {
   "cell_type": "markdown",
   "id": "34731c5f",
   "metadata": {},
   "source": [
    "# Q4 \n",
    "\n",
    "Plot the Monte Carlo estimates generated in part 3 with respect to sample size, as well as three standard deviation error bounds around these estimates."
   ]
  },
  {
   "cell_type": "code",
   "execution_count": 22,
   "id": "d73f4404",
   "metadata": {},
   "outputs": [],
   "source": [
    "np.random.seed(0)\n",
    "\n",
    "def euro_call(S0, sigma, T, gamma, n_sim):\n",
    "    n_step= 12 \n",
    "    dt = T/n_step\n",
    "    call= np.zeros([n_sim], dtype=float)\n",
    "    for j in range(0,n_sim):\n",
    "        sT=S0\n",
    "        sigmaT = sigma\n",
    "        for i in range(0,int(n_step)):\n",
    "            e = np.random.normal()\n",
    "            sigmaT = sigma*sT**(gamma - 1)\n",
    "            sT = sT*np.exp((r-0.5*sigmaT**2)*dt+sigmaT*e*np.sqrt(dt))\n",
    "        call[j] = max(sT-K,0)\n",
    "\n",
    "    call_price = np.mean(call*np.exp(-r*T))\n",
    "    call_std = np.std(call*np.exp(-r*T))/np.sqrt(n_sim)\n",
    "    return call_price, call_std"
   ]
  },
  {
   "cell_type": "code",
   "execution_count": 23,
   "id": "124daeae",
   "metadata": {},
   "outputs": [],
   "source": [
    "# Generating analytical estimates for call as a function of sample size\n",
    "\n",
    "mcall_estimates = [None]*50\n",
    "mcall_std = [None]*50\n",
    "\n",
    "for i in range(1,51):\n",
    "    mcall_estimates[i-1], mcall_std[i-1]  = euro_call(S0, sigma, T, gamma, i*1000)"
   ]
  },
  {
   "cell_type": "code",
   "execution_count": 24,
   "id": "d05c2a60",
   "metadata": {},
   "outputs": [
    {
     "data": {
      "image/png": "[encoded data removed]",
      "text/plain": [
       "<Figure size 432x288 with 1 Axes>"
      ]
     },
     "metadata": {
      "needs_background": "light"
     },
     "output_type": "display_data"
    }
   ],
   "source": [
    "# Plotting the monte carlo estimates against the sample size and std errors\n",
    "plt.plot([analytical_call_price]*50)\n",
    "plt.plot(mcall_estimates, '.')\n",
    "plt.xlabel(\"Sample Size errors\")\n",
    "plt.ylabel(\"Value\")\n",
    "plt.plot(analytical_call_price+np.array(mcall_std)*3,'r')\n",
    "plt.plot(analytical_call_price-np.array(mcall_std)*3,'r')\n",
    "\n",
    "plt.show()"
   ]
  },
  {
   "cell_type": "markdown",
   "id": "ff95ab89",
   "metadata": {},
   "source": [
    "# Q5 \n",
    "\n",
    "Graph the volatility smile (2 pts)\n",
    "\n",
    "• Visit https://finance.yahoo.com/quote/FB/options/\n",
    "    \n",
    "• Find the strike closest to the current price of Facebook stock (take whatever\n",
    "maturity/ies you’d like). Call this K. Find its volatility. Call this sigma\n",
    "\n",
    "• Then find the 3 closest strikes below K. Find their implied volatilities from the website.\n",
    "\n",
    "• Then find the 3 closest strikes above K. Find their implied volatilities from the website.\n",
    "\n",
    "• Graph the strikes along the x-axis, and the implied volatilities along the y-axis.\n",
    "\n",
    "• Label this graph the “Facebook Option Volatility Smile”.\n"
   ]
  },
  {
   "cell_type": "code",
   "execution_count": 1,
   "id": "767b85a9",
   "metadata": {},
   "outputs": [],
   "source": [
    "import pandas as pd\n",
    "\n",
    "k = 350\n",
    "sigma = 0.2626\n",
    "\n",
    "low_strike1 = 342.5\n",
    "sigma_lk1 = 0.2625\n",
    "\n",
    "low_strike2 = 345\n",
    "sigma_lk2 = 0.2466\n",
    "\n",
    "low_strike3 = 347.5\n",
    "sigma_lk3 = 0.2427\n",
    "\n",
    "high_strike1 = 352.5\n",
    "sigma_hk1 = 0.2315\n",
    "\n",
    "high_strike2 = 355\n",
    "sigma_hk2 = 0.2272\n",
    "\n",
    "high_strike3 = 357.5\n",
    "sigma_hk3 = 0.2269"
   ]
  },
  {
   "cell_type": "code",
   "execution_count": null,
   "id": "f33e6d00",
   "metadata": {},
   "outputs": [],
   "source": [
    "dataset = [[low_strike1, sigma_lk1], [low_strike2, sigma_lk2], [low_strike3, sigma_lk3], [k, sigma], [high_strike1, sigma_hk1], [high_strike2, sigma_hk2], [high_strike3, sigma_hk3]]\n",
    " \n",
    "df = pd.DataFrame(dataset, columns = ['Strike', 'Implied Volatility'])\n",
    "df.plot.line(x = 'Strike', y = 'Implied Volatility', title = \"Facebook Option Volatility Smile\")"
   ]
  },
  {
   "cell_type": "markdown",
   "id": "8b66976b",
   "metadata": {},
   "source": [
    "# Q7\n",
    "\n",
    "The volatility skewness is defined as the change in implied volatility (delta y) divided by the change in strike level (delta x). Using the strikes below K, calculate the volatility skew for Facebook. "
   ]
  },
  {
   "cell_type": "code",
   "execution_count": 11,
   "id": "c009d347",
   "metadata": {},
   "outputs": [
    {
     "name": "stdout",
     "output_type": "stream",
     "text": [
      "749.9999999998828\n",
      "3.1249999999999973\n",
      "1.2562814070351747\n"
     ]
    }
   ],
   "source": [
    "sigma_skewlk1 = (k-low_strike1)/ (sigma*100 - sigma_lk1*100)\n",
    "\n",
    "\n",
    "sigma_skewlk2 = (k-low_strike2)/ (sigma*100 - sigma_lk2*100)\n",
    "\n",
    "\n",
    "sigma_skewlk3 = (k-low_strike3)/ (sigma*100 - sigma_lk3*100)\n",
    "\n",
    "\n",
    "print(sigma_skewlk1)\n",
    "print(sigma_skewlk2)\n",
    "print(sigma_skewlk3) "
   ]
  },
  {
   "cell_type": "code",
   "execution_count": null,
   "id": "6f9fa27d",
   "metadata": {},
   "outputs": [],
   "source": []
  }
 ],
 "metadata": {
  "kernelspec": {
   "display_name": "Python 3",
   "language": "python",
   "name": "python3"
  },
  "language_info": {
   "codemirror_mode": {
    "name": "ipython",
    "version": 3
   },
   "file_extension": ".py",
   "mimetype": "text/x-python",
   "name": "python",
   "nbconvert_exporter": "python",
   "pygments_lexer": "ipython3",
   "version": "3.7.6"
  }
 },
 "nbformat": 4,
 "nbformat_minor": 5
}
