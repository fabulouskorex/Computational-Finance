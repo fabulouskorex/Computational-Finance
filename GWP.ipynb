{
 "cells": [
  {
   "cell_type": "markdown",
   "id": "2ca49b96",
   "metadata": {},
   "source": [
    "### Question 4\n",
    "Price a European call option with the information provided. (2 pts)\n"
   ]
  },
  {
   "cell_type": "code",
   "execution_count": 21,
   "id": "08a8962f",
   "metadata": {},
   "outputs": [],
   "source": [
    "from scipy.stats import norm\n",
    "import math\n",
    "import random\n",
    "import numpy as np\n",
    "from scipy.stats import uniform\n",
    "import matplotlib.pyplot as plt"
   ]
  },
  {
   "cell_type": "code",
   "execution_count": 10,
   "id": "7618c155",
   "metadata": {},
   "outputs": [],
   "source": [
    "# Share specific  information\n",
    "risk_free = 0.08 #risk free rate\n",
    "S_0 = 100 #Current stock price\n",
    "sigma = 0.3 #volatility of the underlying share is 30%\n",
    "sigma_cp = 0.25 # volatility for the counterparty firm value\n",
    "cp_debt = 175 # counterparty debt, due in one year\n",
    "corel = 0.2 # correlation between the counterparty and the stock.\n",
    "reco = 0.25 #recovery rate with the counterparty\n",
    "\n",
    "# Call Option specific information\n",
    "strike = 100\n",
    "T = 1\n",
    "curr_time = 0\n",
    "b = risk_free # Cost to carry assuming no dividends\n",
    "bar_lvl = 150 # barrier level\n",
    "R = 0 # value upon expiration"
   ]
  },
  {
   "cell_type": "code",
   "execution_count": 11,
   "id": "a33da82a",
   "metadata": {},
   "outputs": [
    {
     "data": {
      "text/plain": [
       "15.71"
      ]
     },
     "execution_count": 11,
     "metadata": {},
     "output_type": "execute_result"
    }
   ],
   "source": [
    "#Code for price of European call option\n",
    "def bs_call(S_0,strike,risk_free,sigma,T,curr_time):\n",
    "    d_1 = (math.log(S_0/strike)+(risk_free + sigma**2/2)*(T-curr_time))/(sigma*math.sqrt(T-curr_time))\n",
    "    d_2 = d_1 - sigma*math.sqrt(T-curr_time)\n",
    "    \n",
    "    return round(S_0*norm.cdf(d_1)-strike*math.exp(-risk_free*(T-curr_time))*norm.cdf(d_2),2)\n",
    "\n",
    "bs_call(S_0,strike,risk_free,sigma,T,curr_time)"
   ]
  },
  {
   "cell_type": "markdown",
   "id": "b93677bb",
   "metadata": {},
   "source": [
    "### Question 5\n",
    "Price a European up-and-out barrier call option: Simulate paths for the underlying share and\n",
    "for the counterparty’s firm value using sample sizes of 1000, 2000, …, 50000. Do monthly\n",
    "simulations for the lifetime of the option."
   ]
  },
  {
   "cell_type": "markdown",
   "id": "efff55fa",
   "metadata": {},
   "source": [
    "Text book reference : Ch-4.16 Mirror options, Exotic options- single asset\n",
    "\n",
    "Up-and-out option is calulated using following analytical formula, assuming no dividends (thus b =r):\n",
    "\n",
    "* S= current price of stock\n",
    "* K = strike\n",
    "* $\\sigma$ = volatility\n",
    "* r = risk-free rate\n",
    "* H = barrier level\n",
    "* R = value after Expiration\n",
    "\n",
    "\n"
   ]
  },
  {
   "cell_type": "markdown",
   "id": "dd323e58",
   "metadata": {},
   "source": [
    "$\\mu= \\frac{b-\\sigma^2/2}{\\sigma^2}$\n",
    "\n",
    "$\\lambda = \\sqrt{\\mu^2+\\frac{2r}{\\sigma^2}}$ <br>\n",
    "$x_1=\\frac{ln\\frac{S}{K}}{\\sigma \\sqrt{T}} +(1+\\mu)\\sigma \\sqrt{T} $<br>\n",
    "$x_2=\\frac{ln\\frac{S}{H}}{\\sigma \\sqrt{T}} +(1+\\mu)\\sigma \\sqrt{T} $<br>\n",
    "$y_1=\\frac{ln\\frac{H^2}{SK}}{\\sigma \\sqrt{T}} +(1+\\mu)\\sigma \\sqrt{T} $<br>\n",
    "$y_2=\\frac{ln\\frac{H}{S}}{\\sigma \\sqrt{T}} +(1+\\mu)\\sigma \\sqrt{T} $<br>\n",
    "$z=\\frac{ln\\frac{H}{S}}{\\sigma \\sqrt{T}} +\\lambda\\sigma \\sqrt{T} $<br>\n",
    "\n",
    "$A= \\phi S e^{(b-r)T} \\Phi(\\phi x_1)-\\phi K e^{(-rT)} \\Phi (\\phi x_1 -\\phi \\sigma \\sqrt{T})$ <br>\n",
    "$B= \\phi S e^{(b-r)T} \\Phi(\\phi x_2)-\\phi K e^{(-rT)} \\Phi (\\phi x_2 -\\phi \\sigma \\sqrt{ T})$\n",
    " \n",
    "$C=  \\phi S e^{(b-r)T} (H/S)^{2(\\mu +1)} \\Phi(\\eta y_1)-\\phi K e^{(-rT)}(H/S)^{2\\mu}\\Phi (\\eta y_1 -\\eta \\sigma \\sqrt{T})$\n",
    "\n",
    "$D=  \\phi S e^{(b-r)T} (H/S)^{2(\\mu +1)} \\Phi(\\eta y_2)-\\phi K e^{(-rT)}(H/S)^{2\\mu}\\Phi (\\eta y_2 -\\eta \\sigma \\sqrt{T})$\n",
    "\n",
    "$F=R[(H/S)^{(\\mu +\\lambda)} \\Phi(\\eta z)+ (H/S)^{(\\mu -\\lambda)}\\Phi (\\eta z -2 \\eta \\lambda \\sigma \\sqrt{T})]$\n",
    "\n",
    "* $\\Phi$ is CDF of normal Distribution\n",
    "\n",
    "*For up-and-out option*\n",
    "* $\\eta= -1$ \n",
    "* $\\phi=1$  \n",
    "\n",
    "$ C_{UO(K<H)}= A-B+C-D+F$ <br>\n",
    "$ C_{UO(K>H)}= F$"
   ]
  },
  {
   "cell_type": "code",
   "execution_count": 12,
   "id": "8ce320ad",
   "metadata": {},
   "outputs": [],
   "source": [
    "#Up-and-out option function\n",
    "def call_UO(S,K,r,sigma,b,H,R,time,curr_time):\n",
    "    eta = -1\n",
    "    phi = 1\n",
    "    t = time - curr_time\n",
    "    mu = (b - (sigma**2/2))/sigma**2\n",
    "    lmda = math.sqrt(mu**2 + (2*r)/(sigma**2))\n",
    "    x_1 = (math.log(S/K)) / (sigma*math.sqrt(t)) + (1+mu)*sigma*math.sqrt(t)\n",
    "    x_2 = (math.log(S/H)) / (sigma*math.sqrt(t)) + (1+mu)*sigma*math.sqrt(t)\n",
    "    y_1 = math.log((H**2)/(S*K)) / (sigma*math.sqrt(t)) + (1+mu)*sigma*math.sqrt(t)\n",
    "    y_2 = math.log(H/S) / (sigma*math.sqrt(t)) + (1+mu)*sigma*math.sqrt(t)\n",
    "    z = math.log(H/S) / (sigma*math.sqrt(t)) + lmda*sigma*math.sqrt(t)\n",
    "    N_1 = phi*x_1 - math.sqrt(t)*phi*sigma\n",
    "    N_2 = phi*x_2 - math.sqrt(t)*phi*sigma\n",
    "    N_3 = eta*y_1 - math.sqrt(t)*eta*sigma\n",
    "    N_4 = eta*y_2 - math.sqrt(t)*eta*sigma\n",
    "    N_5 = eta*z - 2*eta*lmda*sigma*math.sqrt(t)\n",
    "    A = phi*S*math.exp((b-r)*t)*norm.cdf(phi*x_1) - phi*K*math.exp(-r*t)*norm.cdf(N_1)\n",
    "    B = phi*S*math.exp((b-r)*t)*norm.cdf(phi*x_2) - phi*K*math.exp(-r*t)*norm.cdf(N_2)\n",
    "    C = phi*S*math.exp((b-r)*t)*((H/S)**(2*(mu+1)))*norm.cdf(eta*y_1)- phi*K*math.exp(-r*t)*((H/S)**(2*mu))*norm.cdf(N_3)\n",
    "    D = phi*S*math.exp((b-r)*t)*(H/S)**(2*(mu+1))*norm.cdf(eta*y_2)- phi*K*math.exp(-r*t)*((H/S)**(2*mu))*norm.cdf(N_4)\n",
    "    F = R*(((H/S)**(mu+lmda))*norm.cdf(eta*z)-((H/S)**(mu-lmda))*norm.cdf(N_5))\n",
    "    \n",
    "    if K<H:\n",
    "        return round(A-B+C-D+F,2)\n",
    "    else:\n",
    "        return round(F,2)"
   ]
  },
  {
   "cell_type": "code",
   "execution_count": 13,
   "id": "6aadeaa0",
   "metadata": {},
   "outputs": [
    {
     "data": {
      "text/plain": [
       "5.31"
      ]
     },
     "execution_count": 13,
     "metadata": {},
     "output_type": "execute_result"
    }
   ],
   "source": [
    "# calculation for up and out option by calling function\n",
    "\n",
    "call_UO(S_0,strike,risk_free,sigma,b,bar_lvl,R,T,curr_time)"
   ]
  },
  {
   "cell_type": "markdown",
   "id": "cde71235",
   "metadata": {},
   "source": [
    "### Question 6 \n",
    "Price a European up-and-in barrier call option.\n",
    "\n",
    "$Call_{up-and-in} = Call - Call_{up-and-out}$"
   ]
  },
  {
   "cell_type": "code",
   "execution_count": 18,
   "id": "5da8634a",
   "metadata": {},
   "outputs": [],
   "source": [
    "# up-and-in option function\n",
    "\n",
    "def call_UI(S,K,r,sigma,b,H,R,time,curr_time):\n",
    "    \n",
    "    return round(bs_call(S,K,r,sigma,T,curr_time) - call_UO(S,K,r,sigma,b,H,R,time,curr_time),2)"
   ]
  },
  {
   "cell_type": "code",
   "execution_count": 19,
   "id": "68e326fc",
   "metadata": {},
   "outputs": [
    {
     "data": {
      "text/plain": [
       "13.22"
      ]
     },
     "execution_count": 19,
     "metadata": {},
     "output_type": "execute_result"
    }
   ],
   "source": [
    "# calculation for up-and-in function\n",
    "\n",
    "call_UI(S_0,strike,risk_free,sigma,b,bar_lvl,R,T,curr_time)"
   ]
  },
  {
   "cell_type": "markdown",
   "id": "3e3db819",
   "metadata": {},
   "source": [
    "### Question 7\n",
    "Repeat Question 5 (Price up-and-out barrier call) 6 times, keeping all the data the same, but\n",
    "using a new strike level in each case: a) 85, b) 90, c) 95, d) 105, e) 110, f) 115. Produce a table\n",
    "of 7 rows that shows the strike, and the option price. \n"
   ]
  },
  {
   "cell_type": "code",
   "execution_count": 25,
   "id": "382d6166",
   "metadata": {},
   "outputs": [
    {
     "data": {
      "text/plain": [
       "Text(0, 0.5, 'Option price')"
      ]
     },
     "execution_count": 25,
     "metadata": {},
     "output_type": "execute_result"
    },
    {
     "data": {
      "image/png": "[encoded data removed]",
      "text/plain": [
       "<Figure size 432x288 with 1 Axes>"
      ]
     },
     "metadata": {
      "needs_background": "light"
     },
     "output_type": "display_data"
    }
   ],
   "source": [
    "strikes = [85, 90, 95, 105, 110, 115]\n",
    "\n",
    "pp= []\n",
    "for strike in strikes:\n",
    "    q= call_UO(S_0,strike,risk_free,sigma,b,bar_lvl,R,T,curr_time) \n",
    "    pp.append(q)\n",
    "\n",
    "plt.plot(strikes, pp)\n",
    "plt.xlabel('strike price')\n",
    "plt.ylabel('Option price')"
   ]
  },
  {
   "cell_type": "code",
   "execution_count": null,
   "id": "77e354b9",
   "metadata": {},
   "outputs": [],
   "source": []
  }
 ],
 "metadata": {
  "kernelspec": {
   "display_name": "Python 3",
   "language": "python",
   "name": "python3"
  },
  "language_info": {
   "codemirror_mode": {
    "name": "ipython",
    "version": 3
   },
   "file_extension": ".py",
   "mimetype": "text/x-python",
   "name": "python",
   "nbconvert_exporter": "python",
   "pygments_lexer": "ipython3",
   "version": "3.8.8"
  }
 },
 "nbformat": 4,
 "nbformat_minor": 5
}
